{
 "cells": [
  {
   "cell_type": "markdown",
   "metadata": {
    "id": "8PrD4L_92-EM"
   },
   "source": [
    "## 부록1 파이썬 입문"
   ]
  },
  {
   "cell_type": "markdown",
   "metadata": {
    "id": "PyYQrUX82-EP"
   },
   "source": [
    "#### 기본형"
   ]
  },
  {
   "cell_type": "code",
   "execution_count": null,
   "metadata": {
    "id": "ck6vpPgO2-EQ"
   },
   "outputs": [],
   "source": [
    "# 정수형\n",
    "# 수치 표현이 정수인 경우, 이를 대입한 변수는 자동으로 정수형이 됨\n",
    "a = 1\n",
    "\n",
    "# 부동소수점 수형\n",
    "# 수치 표현에 소수점이 포함되면, 이를 대입한 변수는 자동적으로 부동소수점 수형이 됨\n",
    "b = 2.0\n",
    "\n",
    "# 문자열형\n",
    "# 문자열은 싱글 쿼트(')로 감싸서 표현함\n",
    "# 또는 더블 쿼트(\")로 감싸도 상관 없음\n",
    "c = 'abc'\n",
    "\n",
    "# 논리형\n",
    "# True 또는 False 중 하나를 취하는 변수형\n",
    "d = True"
   ]
  },
  {
   "cell_type": "markdown",
   "metadata": {
    "id": "47rgVwXz2-EY"
   },
   "source": [
    "#### print 함수와 type 함수"
   ]
  },
  {
   "cell_type": "code",
   "execution_count": null,
   "metadata": {
    "colab": {
     "base_uri": "https://localhost:8080/"
    },
    "executionInfo": {
     "elapsed": 2,
     "status": "ok",
     "timestamp": 1649506843754,
     "user": {
      "displayName": "Seungmin Ha",
      "userId": "04860775544158746732"
     },
     "user_tz": -540
    },
    "id": "wPuoMzM42-EY",
    "outputId": "555f6e1b-f832-4755-d7d8-3596a2c6e4ce"
   },
   "outputs": [
    {
     "name": "stdout",
     "output_type": "stream",
     "text": [
      "1\n",
      "<class 'int'>\n"
     ]
    }
   ],
   "source": [
    "# 정수형 변수 a의 값과 형\n",
    "print(a)\n",
    "print(type(a))"
   ]
  },
  {
   "cell_type": "code",
   "execution_count": null,
   "metadata": {
    "colab": {
     "base_uri": "https://localhost:8080/"
    },
    "executionInfo": {
     "elapsed": 2,
     "status": "ok",
     "timestamp": 1649506844203,
     "user": {
      "displayName": "Seungmin Ha",
      "userId": "04860775544158746732"
     },
     "user_tz": -540
    },
    "id": "cIu3RkVY2-Ef",
    "outputId": "0fd20b9b-7cb1-4a56-cce6-e218a1b24804"
   },
   "outputs": [
    {
     "name": "stdout",
     "output_type": "stream",
     "text": [
      "2.0\n",
      "<class 'float'>\n"
     ]
    }
   ],
   "source": [
    "# 부동소수점 수형 변수 b의 값과 형\n",
    "print(b)\n",
    "print(type(b))"
   ]
  },
  {
   "cell_type": "code",
   "execution_count": null,
   "metadata": {
    "colab": {
     "base_uri": "https://localhost:8080/"
    },
    "executionInfo": {
     "elapsed": 2,
     "status": "ok",
     "timestamp": 1649506844751,
     "user": {
      "displayName": "Seungmin Ha",
      "userId": "04860775544158746732"
     },
     "user_tz": -540
    },
    "id": "cDyOLlVE2-Ep",
    "outputId": "d986a5a2-641e-4b43-f507-a5b1bc82a25e"
   },
   "outputs": [
    {
     "name": "stdout",
     "output_type": "stream",
     "text": [
      "abc\n",
      "<class 'str'>\n"
     ]
    }
   ],
   "source": [
    "# 문자열형 변수 c의 값과 형\n",
    "print(c)\n",
    "print(type(c))"
   ]
  },
  {
   "cell_type": "code",
   "execution_count": null,
   "metadata": {
    "colab": {
     "base_uri": "https://localhost:8080/"
    },
    "executionInfo": {
     "elapsed": 1,
     "status": "ok",
     "timestamp": 1649506845211,
     "user": {
      "displayName": "Seungmin Ha",
      "userId": "04860775544158746732"
     },
     "user_tz": -540
    },
    "id": "-eCkBPUd2-Ez",
    "outputId": "46de83c8-8341-4fcb-b48b-d4a3c45276cf"
   },
   "outputs": [
    {
     "name": "stdout",
     "output_type": "stream",
     "text": [
      "True\n",
      "<class 'bool'>\n"
     ]
    }
   ],
   "source": [
    "# 논리형 변수 d의 값과 형\n",
    "print(d)\n",
    "print(type(d))"
   ]
  },
  {
   "cell_type": "markdown",
   "metadata": {},
   "source": [
    "#### 2항연산"
   ]
  },
  {
   "cell_type": "code",
   "execution_count": null,
   "metadata": {},
   "outputs": [],
   "source": [
    "# 덧셈\n",
    "a1 = 1 + 2\n",
    "print(a1)\n",
    "\n",
    "# 뺄셈\n",
    "a2 = 3 - 2\n",
    "print(a2)\n",
    "\n",
    "# 곱셈\n",
    "a3 = 3 * 5\n",
    "print(a3)\n",
    "\n",
    "# 나눗셈\n",
    "a4 = 13 / 5\n",
    "print(a4)\n",
    "\n",
    "# 나머지 연산\n",
    "a5 = 13 % 5\n",
    "print(a5)\n",
    "\n",
    "# 몫 연산\n",
    "a6 = 13 // 5\n",
    "print(a6)\n",
    "\n",
    "# 거듭 제곱\n",
    "a7 = 2 ** 5\n",
    "print(a7)"
   ]
  },
  {
   "cell_type": "markdown",
   "metadata": {},
   "source": [
    "#### 논리 연산"
   ]
  },
  {
   "cell_type": "code",
   "execution_count": null,
   "metadata": {},
   "outputs": [],
   "source": [
    "t1 = True\n",
    "t2 = True\n",
    "f1 = False\n",
    "f2 = False\n",
    "\n",
    "# AND 연산 \n",
    "b1 = t1 and t2\n",
    "print(b1)\n",
    "\n",
    "# OR 연산\n",
    "b2 = t1 or f1\n",
    "print(b2)\n",
    "\n",
    "# NOT 연산\n",
    "b3 = not f1\n",
    "print(b3)"
   ]
  },
  {
   "cell_type": "markdown",
   "metadata": {},
   "source": [
    "#### 대입 연산"
   ]
  },
  {
   "cell_type": "code",
   "execution_count": null,
   "metadata": {},
   "outputs": [],
   "source": [
    "c1 = 5\n",
    "\n",
    "# c1 = c1 + 2와 같음\n",
    "c1 += 2\n",
    "print(c1)\n",
    "\n",
    "# c1 = c1 - 3과 같음\n",
    "c1 -= 3\n",
    "print(c1)"
   ]
  },
  {
   "cell_type": "markdown",
   "metadata": {
    "id": "HMcMwYOc2-E7"
   },
   "source": [
    "#### 리스트"
   ]
  },
  {
   "cell_type": "code",
   "execution_count": null,
   "metadata": {
    "colab": {
     "base_uri": "https://localhost:8080/"
    },
    "executionInfo": {
     "elapsed": 3,
     "status": "ok",
     "timestamp": 1649506879393,
     "user": {
      "displayName": "Seungmin Ha",
      "userId": "04860775544158746732"
     },
     "user_tz": -540
    },
    "id": "yrRfmqkD2-E8",
    "outputId": "f6c703fc-3d46-43d1-f672-d2578eed91a6"
   },
   "outputs": [
    {
     "name": "stdout",
     "output_type": "stream",
     "text": [
      "[1, 2, 3, 5, 8, 13]\n",
      "<class 'list'>\n"
     ]
    }
   ],
   "source": [
    "# 리스트의 정의\n",
    "l = [1, 2, 3, 5, 8, 13]\n",
    "\n",
    "# 리스트의 값 과 형\n",
    "print(l)\n",
    "print(type(l))"
   ]
  },
  {
   "cell_type": "markdown",
   "metadata": {
    "id": "Hn9AiARl2-FH"
   },
   "source": [
    "#### 리스트의 요소 수"
   ]
  },
  {
   "cell_type": "code",
   "execution_count": null,
   "metadata": {
    "colab": {
     "base_uri": "https://localhost:8080/"
    },
    "executionInfo": {
     "elapsed": 2,
     "status": "ok",
     "timestamp": 1649506896353,
     "user": {
      "displayName": "Seungmin Ha",
      "userId": "04860775544158746732"
     },
     "user_tz": -540
    },
    "id": "BRJXtFFQ2-FI",
    "outputId": "ef93e93d-01b7-4431-ec8a-d97b5176b35e"
   },
   "outputs": [
    {
     "name": "stdout",
     "output_type": "stream",
     "text": [
      "6\n"
     ]
    }
   ],
   "source": [
    "# 리스트의 요소 수\n",
    "print(len(l))"
   ]
  },
  {
   "cell_type": "markdown",
   "metadata": {
    "id": "HwysVIUG2-FV"
   },
   "source": [
    "#### 리스트의 요소 참조"
   ]
  },
  {
   "cell_type": "code",
   "execution_count": null,
   "metadata": {
    "colab": {
     "base_uri": "https://localhost:8080/"
    },
    "executionInfo": {
     "elapsed": 7,
     "status": "ok",
     "timestamp": 1649506949245,
     "user": {
      "displayName": "Seungmin Ha",
      "userId": "04860775544158746732"
     },
     "user_tz": -540
    },
    "id": "DK2_14rD2-FV",
    "outputId": "a943d482-fcd9-4f9e-ad2e-3aeb5f6973b5"
   },
   "outputs": [
    {
     "name": "stdout",
     "output_type": "stream",
     "text": [
      "1\n",
      "3\n",
      "13\n"
     ]
    }
   ],
   "source": [
    "# 리스트의 요소 참조\n",
    "\n",
    "# 가장 첫번째 요소\n",
    "print(l[0])\n",
    "\n",
    "# 3번째 요소\n",
    "print(l[2])\n",
    "\n",
    "# 마지막 요소(이와 같은 지정 방식도 가능함)\n",
    "print(l[-1])"
   ]
  },
  {
   "cell_type": "markdown",
   "metadata": {
    "id": "gQLlKCZgEMLI"
   },
   "source": [
    "#### 부분 리스트 참조 1"
   ]
  },
  {
   "cell_type": "code",
   "execution_count": null,
   "metadata": {
    "colab": {
     "base_uri": "https://localhost:8080/"
    },
    "executionInfo": {
     "elapsed": 2,
     "status": "ok",
     "timestamp": 1649507008663,
     "user": {
      "displayName": "Seungmin Ha",
      "userId": "04860775544158746732"
     },
     "user_tz": -540
    },
    "id": "8RYCaj51EMLJ",
    "outputId": "ba8da829-0f8a-4847-d7d8-02d75e807a5a"
   },
   "outputs": [
    {
     "name": "stdout",
     "output_type": "stream",
     "text": [
      "[3, 5, 8]\n",
      "[1, 2, 3]\n",
      "[1, 2, 3]\n"
     ]
    }
   ],
   "source": [
    "# 부분 리스트, 인덱스 : 2 이상 인덱스 : 5 미만\n",
    "print(l[2:5])\n",
    "\n",
    "# 부분 리스트, 인덱스 : 0 이상 인덱스 : 3 미만\n",
    "print(l[0:3])\n",
    "\n",
    "# 시작하는 인덱스가 0인 경우, 생략 가능\n",
    "print(l[:3])"
   ]
  },
  {
   "cell_type": "markdown",
   "metadata": {
    "id": "vYfz451iEMLJ"
   },
   "source": [
    "#### 부분 리스트 참조  2"
   ]
  },
  {
   "cell_type": "code",
   "execution_count": null,
   "metadata": {
    "colab": {
     "base_uri": "https://localhost:8080/"
    },
    "executionInfo": {
     "elapsed": 3,
     "status": "ok",
     "timestamp": 1649507145709,
     "user": {
      "displayName": "Seungmin Ha",
      "userId": "04860775544158746732"
     },
     "user_tz": -540
    },
    "id": "gteronENEMLJ",
    "outputId": "46c5a0c6-9bdf-4aa8-e21e-11089d043a49"
   },
   "outputs": [
    {
     "name": "stdout",
     "output_type": "stream",
     "text": [
      "[8, 13]\n",
      "[8, 13]\n",
      "[8, 13]\n",
      "[1, 2, 3, 5, 8, 13]\n"
     ]
    }
   ],
   "source": [
    "# 부분 리스트, 인덱스 : 4 이상 마지막 까지\n",
    "# 리스트의 길이(요소 수)를 구함\n",
    "n = len(l) \n",
    "print(l[4:n])\n",
    "\n",
    "# 마지막 요소는 인덱스 생략 가능\n",
    "print(l[4:])\n",
    "\n",
    "# 마지막에서 2개 요소\n",
    "print(l[-2:])\n",
    "\n",
    "# 처음과 마지막 인덱스를 생략하면, 리스트 전체를 참조\n",
    "print(l[:])"
   ]
  },
  {
   "cell_type": "markdown",
   "metadata": {
    "id": "0BcEDGw52-Fg"
   },
   "source": [
    "#### 튜플"
   ]
  },
  {
   "cell_type": "code",
   "execution_count": null,
   "metadata": {
    "colab": {
     "base_uri": "https://localhost:8080/"
    },
    "executionInfo": {
     "elapsed": 2,
     "status": "ok",
     "timestamp": 1649507181122,
     "user": {
      "displayName": "Seungmin Ha",
      "userId": "04860775544158746732"
     },
     "user_tz": -540
    },
    "id": "clsh-h9U2-Fj",
    "outputId": "b7753f33-cf6f-4091-d774-98be7bbe78a3"
   },
   "outputs": [
    {
     "name": "stdout",
     "output_type": "stream",
     "text": [
      "(1, 2, 3, 5, 8, 13)\n",
      "<class 'tuple'>\n",
      "6\n",
      "2\n"
     ]
    }
   ],
   "source": [
    "# 튜플의 정의\n",
    "t = (1, 2, 3, 5, 8, 13)\n",
    "\n",
    "# 튜플의 값 출력\n",
    "print(t)\n",
    "\n",
    "# 튜플의 형 출력\n",
    "print(type(t))\n",
    "\n",
    "# 튜플의 요소 수\n",
    "print(len(t))\n",
    "\n",
    "# 튜플의 요소 참조\n",
    "print(t[1])"
   ]
  },
  {
   "cell_type": "code",
   "execution_count": null,
   "metadata": {
    "colab": {
     "base_uri": "https://localhost:8080/",
     "height": 172
    },
    "executionInfo": {
     "elapsed": 528,
     "status": "error",
     "timestamp": 1649507186759,
     "user": {
      "displayName": "Seungmin Ha",
      "userId": "04860775544158746732"
     },
     "user_tz": -540
    },
    "id": "Ab5jH3-B2-Fn",
    "outputId": "0eb3aa79-5af9-4e7b-8df4-36de210fcae7"
   },
   "outputs": [
    {
     "ename": "TypeError",
     "evalue": "ignored",
     "output_type": "error",
     "traceback": [
      "\u001b[0;31m---------------------------------------------------------------------------\u001b[0m",
      "\u001b[0;31mTypeError\u001b[0m                                 Traceback (most recent call last)",
      "\u001b[0;32m<ipython-input-12-d6b0ce29b2aa>\u001b[0m in \u001b[0;36m<module>\u001b[0;34m()\u001b[0m\n\u001b[0;32m----> 1\u001b[0;31m \u001b[0mt\u001b[0m\u001b[0;34m[\u001b[0m\u001b[0;36m1\u001b[0m\u001b[0;34m]\u001b[0m \u001b[0;34m=\u001b[0m \u001b[0;36m1\u001b[0m\u001b[0;34m\u001b[0m\u001b[0;34m\u001b[0m\u001b[0m\n\u001b[0m",
      "\u001b[0;31mTypeError\u001b[0m: 'tuple' object does not support item assignment"
     ]
    }
   ],
   "source": [
    "t[1] = 1"
   ]
  },
  {
   "cell_type": "code",
   "execution_count": null,
   "metadata": {
    "colab": {
     "base_uri": "https://localhost:8080/"
    },
    "executionInfo": {
     "elapsed": 3,
     "status": "ok",
     "timestamp": 1649507187127,
     "user": {
      "displayName": "Seungmin Ha",
      "userId": "04860775544158746732"
     },
     "user_tz": -540
    },
    "id": "0H7QX-AS2-Fq",
    "outputId": "7e7c773b-224d-4f78-edbe-0e14ecb09487"
   },
   "outputs": [
    {
     "name": "stdout",
     "output_type": "stream",
     "text": [
      "<class 'tuple'>\n"
     ]
    }
   ],
   "source": [
    "x = 1\n",
    "y = 2\n",
    "z = (x, y)\n",
    "print(type(z))"
   ]
  },
  {
   "cell_type": "code",
   "execution_count": null,
   "metadata": {
    "colab": {
     "base_uri": "https://localhost:8080/"
    },
    "executionInfo": {
     "elapsed": 3,
     "status": "ok",
     "timestamp": 1649507187127,
     "user": {
      "displayName": "Seungmin Ha",
      "userId": "04860775544158746732"
     },
     "user_tz": -540
    },
    "id": "U3hYst__2-Ft",
    "outputId": "883f5ac3-c07b-4f6a-c274-3a73d8f82fdf"
   },
   "outputs": [
    {
     "name": "stdout",
     "output_type": "stream",
     "text": [
      "1\n",
      "2\n"
     ]
    }
   ],
   "source": [
    "a, b = z\n",
    "print(a)\n",
    "print(b)"
   ]
  },
  {
   "cell_type": "markdown",
   "metadata": {
    "id": "vWpZdRag2-GJ"
   },
   "source": [
    "### 사전"
   ]
  },
  {
   "cell_type": "markdown",
   "metadata": {
    "id": "qKh9XKnF2-GK"
   },
   "source": [
    "#### 사전의 정의"
   ]
  },
  {
   "cell_type": "code",
   "execution_count": null,
   "metadata": {
    "colab": {
     "base_uri": "https://localhost:8080/"
    },
    "executionInfo": {
     "elapsed": 4,
     "status": "ok",
     "timestamp": 1649507214404,
     "user": {
      "displayName": "Seungmin Ha",
      "userId": "04860775544158746732"
     },
     "user_tz": -540
    },
    "id": "2jPrrpfP2-GK",
    "outputId": "977b69da-f175-4f15-e5a7-a176df8f6e24"
   },
   "outputs": [
    {
     "name": "stdout",
     "output_type": "stream",
     "text": [
      "{'yes': 1, 'no': 0}\n",
      "<class 'dict'>\n"
     ]
    }
   ],
   "source": [
    "# 사전의 정의\n",
    "my_dict = {'yes': 1, 'no': 0}\n",
    "\n",
    "# print문 출력 결과\n",
    "print(my_dict)\n",
    "\n",
    "# type 함수 출력 결과\n",
    "print(type(my_dict))"
   ]
  },
  {
   "cell_type": "markdown",
   "metadata": {
    "id": "toUV79K72-GR"
   },
   "source": [
    "#### 사전의 참조"
   ]
  },
  {
   "cell_type": "code",
   "execution_count": null,
   "metadata": {
    "colab": {
     "base_uri": "https://localhost:8080/"
    },
    "executionInfo": {
     "elapsed": 2,
     "status": "ok",
     "timestamp": 1649507240656,
     "user": {
      "displayName": "Seungmin Ha",
      "userId": "04860775544158746732"
     },
     "user_tz": -540
    },
    "id": "20DLuIRv2-GS",
    "outputId": "efd4f950-40f7-455b-a59f-2f8a23ef56b3"
   },
   "outputs": [
    {
     "name": "stdout",
     "output_type": "stream",
     "text": [
      "1\n",
      "0\n"
     ]
    }
   ],
   "source": [
    "# 키로부터 값을 참조\n",
    "\n",
    "# key= 'yes' 로 검색\n",
    "value1 = my_dict['yes']\n",
    "print(value1)\n",
    "\n",
    "# key='no' 로 검색\n",
    "value2 = my_dict['no']\n",
    "print(value2)"
   ]
  },
  {
   "cell_type": "markdown",
   "metadata": {
    "id": "ePA6aK2I2-GV"
   },
   "source": [
    "#### 사전에 새로운 항목 추가"
   ]
  },
  {
   "cell_type": "code",
   "execution_count": null,
   "metadata": {
    "colab": {
     "base_uri": "https://localhost:8080/"
    },
    "executionInfo": {
     "elapsed": 2,
     "status": "ok",
     "timestamp": 1649507267039,
     "user": {
      "displayName": "Seungmin Ha",
      "userId": "04860775544158746732"
     },
     "user_tz": -540
    },
    "id": "nCsydOXH2-GW",
    "outputId": "0249f4fc-c493-481c-ffab-658e197c811d"
   },
   "outputs": [
    {
     "name": "stdout",
     "output_type": "stream",
     "text": [
      "{'yes': 1, 'no': 0, 'neutral': 2}\n"
     ]
    }
   ],
   "source": [
    "# 사전에 새로운 항목 추가\n",
    "my_dict['neutral'] = 2\n",
    "\n",
    "# 결과 확인\n",
    "print(my_dict)"
   ]
  },
  {
   "cell_type": "markdown",
   "metadata": {
    "id": "7A6JEafr2-Ga"
   },
   "source": [
    "### 제어 구조"
   ]
  },
  {
   "cell_type": "markdown",
   "metadata": {
    "id": "83WIdtTd2-Ga"
   },
   "source": [
    "#### 루프 처리"
   ]
  },
  {
   "cell_type": "code",
   "execution_count": null,
   "metadata": {
    "colab": {
     "base_uri": "https://localhost:8080/"
    },
    "executionInfo": {
     "elapsed": 3,
     "status": "ok",
     "timestamp": 1649507302713,
     "user": {
      "displayName": "Seungmin Ha",
      "userId": "04860775544158746732"
     },
     "user_tz": -540
    },
    "id": "5SqhNLCZ2-Gb",
    "outputId": "0891690e-643b-499f-8fd7-29030feb0a34"
   },
   "outputs": [
    {
     "name": "stdout",
     "output_type": "stream",
     "text": [
      "One\n",
      "Two\n",
      "Three\n",
      "Four\n"
     ]
    }
   ],
   "source": [
    "# 루프 처리\n",
    "\n",
    "# 리스트 정의\n",
    "list4 = ['One', 'Two', 'Three', 'Four']\n",
    "\n",
    "# 루프 처리\n",
    "for item in list4:\n",
    "    print(item)"
   ]
  },
  {
   "cell_type": "code",
   "execution_count": null,
   "metadata": {
    "colab": {
     "base_uri": "https://localhost:8080/"
    },
    "executionInfo": {
     "elapsed": 2,
     "status": "ok",
     "timestamp": 1649507316786,
     "user": {
      "displayName": "Seungmin Ha",
      "userId": "04860775544158746732"
     },
     "user_tz": -540
    },
    "id": "t-lTQuz22-Gh",
    "outputId": "c7732edc-8e52-41f0-8bcc-8087c69a8875"
   },
   "outputs": [
    {
     "name": "stdout",
     "output_type": "stream",
     "text": [
      "0\n",
      "1\n",
      "2\n",
      "3\n"
     ]
    }
   ],
   "source": [
    "# range 함수를 사용한 루프 처리\n",
    "\n",
    "for item in range(4):\n",
    "    print(item)"
   ]
  },
  {
   "cell_type": "code",
   "execution_count": null,
   "metadata": {
    "id": "QkzvKe852-Gl"
   },
   "outputs": [],
   "source": [
    "# 2개의 인수를 취하는 range 함수\n",
    "\n",
    "for item in range(1, 5):\n",
    "    print(item)"
   ]
  },
  {
   "cell_type": "code",
   "execution_count": null,
   "metadata": {
    "colab": {
     "base_uri": "https://localhost:8080/"
    },
    "executionInfo": {
     "elapsed": 2,
     "status": "ok",
     "timestamp": 1649507360415,
     "user": {
      "displayName": "Seungmin Ha",
      "userId": "04860775544158746732"
     },
     "user_tz": -540
    },
    "id": "OLqB-ql82-Gq",
    "outputId": "b565ce52-41a9-4f11-f151-58f7ed9958e9"
   },
   "outputs": [
    {
     "name": "stdout",
     "output_type": "stream",
     "text": [
      "dict_items([('yes', 1), ('no', 0), ('neutral', 2)])\n",
      "yes : 1\n",
      "no : 0\n",
      "neutral : 2\n"
     ]
    }
   ],
   "source": [
    "# 사전과 루프 처리\n",
    "\n",
    "# items 함수\n",
    "print(my_dict.items())\n",
    "\n",
    "# items 함수를 사용한 루프 처리\n",
    "\n",
    "for key, value in my_dict.items():\n",
    "    print(key, ':', value )"
   ]
  },
  {
   "cell_type": "markdown",
   "metadata": {
    "id": "Lh4fff352-Gt"
   },
   "source": [
    "#### 조건 분기(if 문)"
   ]
  },
  {
   "cell_type": "code",
   "execution_count": null,
   "metadata": {
    "colab": {
     "base_uri": "https://localhost:8080/"
    },
    "executionInfo": {
     "elapsed": 377,
     "status": "ok",
     "timestamp": 1649507396536,
     "user": {
      "displayName": "Seungmin Ha",
      "userId": "04860775544158746732"
     },
     "user_tz": -540
    },
    "id": "Zol5399N2-Gt",
    "outputId": "80d8d548-1680-40e3-f8df-aa65a5d5cb8a"
   },
   "outputs": [
    {
     "name": "stdout",
     "output_type": "stream",
     "text": [
      "1   홀수입니다\n",
      "2   짝수입니다\n",
      "3   홀수입니다\n",
      "4   짝수입니다\n"
     ]
    }
   ],
   "source": [
    "# if 문 예시\n",
    "for i in range(1, 5):\n",
    "    if i % 2 == 0:\n",
    "        print(i, '  짝수입니다')\n",
    "    else:\n",
    "        print(i, '  홀수입니다')"
   ]
  },
  {
   "cell_type": "markdown",
   "metadata": {
    "id": "fIXxsX3Y2-G5"
   },
   "source": [
    "####  함수"
   ]
  },
  {
   "cell_type": "code",
   "execution_count": null,
   "metadata": {
    "colab": {
     "base_uri": "https://localhost:8080/"
    },
    "executionInfo": {
     "elapsed": 5,
     "status": "ok",
     "timestamp": 1649507416470,
     "user": {
      "displayName": "Seungmin Ha",
      "userId": "04860775544158746732"
     },
     "user_tz": -540
    },
    "id": "WKW7xi332-G5",
    "outputId": "3c98ce6d-39ad-4ac6-f2c9-6f536b5957c9"
   },
   "outputs": [
    {
     "name": "stdout",
     "output_type": "stream",
     "text": [
      "13 169\n"
     ]
    }
   ],
   "source": [
    "# 함수의 정의 예시 1\n",
    "def square(x):\n",
    "    p2 = x * x\n",
    "    return p2\n",
    "\n",
    "# 함수의 호출 예시 1\n",
    "x1 = 13\n",
    "r1 = square(x1)\n",
    "print(x1, r1)"
   ]
  },
  {
   "cell_type": "code",
   "execution_count": null,
   "metadata": {
    "colab": {
     "base_uri": "https://localhost:8080/"
    },
    "executionInfo": {
     "elapsed": 384,
     "status": "ok",
     "timestamp": 1649507434711,
     "user": {
      "displayName": "Seungmin Ha",
      "userId": "04860775544158746732"
     },
     "user_tz": -540
    },
    "id": "EnWVLp8o2-G_",
    "outputId": "8eb29f68-e762-4db8-caaf-747580f558bc"
   },
   "outputs": [
    {
     "name": "stdout",
     "output_type": "stream",
     "text": [
      "13 169 2197\n"
     ]
    }
   ],
   "source": [
    "#  함수의 정의 예시 2\n",
    "def squares(x):\n",
    "    p2 = x * x\n",
    "    p3= x * x * x\n",
    "    return (p2, p3)\n",
    "\n",
    "# 함수의 호출 예시 2\n",
    "x1 = 13\n",
    "p2, p3 = squares(x1)\n",
    "print(x1, p2, p3)"
   ]
  },
  {
   "cell_type": "markdown",
   "metadata": {
    "id": "-lBmLd-D2-HC"
   },
   "source": [
    "#### 라이브러리 설치"
   ]
  },
  {
   "cell_type": "code",
   "execution_count": null,
   "metadata": {
    "colab": {
     "base_uri": "https://localhost:8080/"
    },
    "executionInfo": {
     "elapsed": 3639,
     "status": "ok",
     "timestamp": 1649507466884,
     "user": {
      "displayName": "Seungmin Ha",
      "userId": "04860775544158746732"
     },
     "user_tz": -540
    },
    "id": "coRwycFH2-HD",
    "outputId": "787c59d3-c67d-40ae-b50e-3741822d658e"
   },
   "outputs": [
    {
     "name": "stdout",
     "output_type": "stream",
     "text": [
      "Requirement already satisfied: six>=1.5 in /usr/local/lib/python3.7/dist-packages (from python-dateutil>=2.1->matplotlib) (1.15.0)\n"
     ]
    }
   ],
   "source": [
    "# 라이브러리 설치\n",
    "!pip install matplotlib | tail -n 1"
   ]
  },
  {
   "cell_type": "markdown",
   "metadata": {
    "id": "pIlNIJ5b2-HF"
   },
   "source": [
    "#### import 문"
   ]
  },
  {
   "cell_type": "code",
   "execution_count": null,
   "metadata": {
    "id": "4256qlzn2-HG"
   },
   "outputs": [],
   "source": [
    "# 라이브러리 임포트\n",
    "import pandas as pd\n",
    "import numpy as np\n",
    "import matplotlib.pyplot as plt\n",
    "\n",
    "\n",
    "# 데이터 프레임 표시 함수\n",
    "from IPython.display import display"
   ]
  },
  {
   "cell_type": "markdown",
   "metadata": {
    "id": "HwEohvnZ2-HT"
   },
   "source": [
    "#### warning을 출력하지 않는 방법"
   ]
  },
  {
   "cell_type": "code",
   "execution_count": null,
   "metadata": {
    "id": "dBVuCfby2-HT"
   },
   "outputs": [],
   "source": [
    "# 필요하지 않은 warning 출력하지 않기\n",
    "import warnings\n",
    "warnings.filterwarnings('ignore')"
   ]
  },
  {
   "cell_type": "markdown",
   "metadata": {
    "id": "sBjLfxG02-HY"
   },
   "source": [
    "#### 수치의 출력 형식 지정"
   ]
  },
  {
   "cell_type": "code",
   "execution_count": null,
   "metadata": {
    "colab": {
     "base_uri": "https://localhost:8080/"
    },
    "executionInfo": {
     "elapsed": 3,
     "status": "ok",
     "timestamp": 1649507797431,
     "user": {
      "displayName": "Seungmin Ha",
      "userId": "04860775544158746732"
     },
     "user_tz": -540
    },
    "id": "kRbJQtIu2-HZ",
    "outputId": "fb3bfff1-6ae3-47ed-c30c-e875b24d0496"
   },
   "outputs": [
    {
     "name": "stdout",
     "output_type": "stream",
     "text": [
      "a1 = 0.14285714285714285   a2 = 123\n"
     ]
    }
   ],
   "source": [
    "# f 문자열 표시\n",
    "a1 = 1.0/7.0\n",
    "a2 = 123\n",
    "\n",
    "str1 = f'a1 = {a1}   a2 = {a2}'\n",
    "print(str1)"
   ]
  },
  {
   "cell_type": "code",
   "execution_count": null,
   "metadata": {
    "colab": {
     "base_uri": "https://localhost:8080/"
    },
    "executionInfo": {
     "elapsed": 3,
     "status": "ok",
     "timestamp": 1649507930491,
     "user": {
      "displayName": "Seungmin Ha",
      "userId": "04860775544158746732"
     },
     "user_tz": -540
    },
    "id": "U-J22Vwg2-Hc",
    "outputId": "fac0e20b-e125-4c2a-afbf-432e0ad4e776"
   },
   "outputs": [
    {
     "name": "stdout",
     "output_type": "stream",
     "text": [
      "a1 = 0.1429  a2 = 0123\n",
      "a1 = 1.4286e-01  a2 = 0x7b\n"
     ]
    }
   ],
   "source": [
    "# f 문자열의 상세 옵션\n",
    "\n",
    "# .4f : 소수점 이하 네 자리 고정소수점 표시\n",
    "# 04 : 정수를 0을 포함해 네 자리까지 표시\n",
    "str2 = f'a1 = {a1:.4f}  a2 = {a2:04}'\n",
    "print(str2)\n",
    "\n",
    "# 04e : 소수점 이하 네 자리 부동소수점 표시\n",
    "# #x : 정수를 16진수로 표시\n",
    "str3 = f'a1 = {a1:.04e}  a2 = {a2:#x}'\n",
    "print(str3)"
   ]
  }
 ],
 "metadata": {
  "colab": {
   "collapsed_sections": [],
   "name": "l01_python.ipynb",
   "provenance": [],
   "toc_visible": true
  },
  "kernelspec": {
   "display_name": "Python 3",
   "language": "python",
   "name": "python3"
  },
  "language_info": {
   "codemirror_mode": {
    "name": "ipython",
    "version": 3
   },
   "file_extension": ".py",
   "mimetype": "text/x-python",
   "name": "python",
   "nbconvert_exporter": "python",
   "pygments_lexer": "ipython3",
   "version": "3.8.8"
  }
 },
 "nbformat": 4,
 "nbformat_minor": 1
}
