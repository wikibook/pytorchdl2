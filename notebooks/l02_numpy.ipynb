{
 "cells": [
  {
   "cell_type": "markdown",
   "metadata": {
    "id": "Ap9nWerfEgID"
   },
   "source": [
    "## 부록2 넘파이 입문"
   ]
  },
  {
   "cell_type": "markdown",
   "metadata": {
    "id": "COwRNNgpEgIF"
   },
   "source": [
    "### 라이브러리 임포트"
   ]
  },
  {
   "cell_type": "code",
   "execution_count": 1,
   "metadata": {
    "executionInfo": {
     "elapsed": 377,
     "status": "ok",
     "timestamp": 1649508023969,
     "user": {
      "displayName": "Seungmin Ha",
      "userId": "04860775544158746732"
     },
     "user_tz": -540
    },
    "id": "Yb2nr4OvEgIG"
   },
   "outputs": [],
   "source": [
    "# 라이브러리 임포트\n",
    "import numpy as np\n",
    "\n",
    "# 넘파이의 부동소수점 자릿수 표시\n",
    "np.set_printoptions(suppress=True, precision=5)"
   ]
  },
  {
   "cell_type": "markdown",
   "metadata": {
    "id": "a2dIpcJDEgIH"
   },
   "source": [
    "### 정의"
   ]
  },
  {
   "cell_type": "markdown",
   "metadata": {
    "id": "SUcqJQvqEgII"
   },
   "source": [
    "#### array 함수로 정의"
   ]
  },
  {
   "cell_type": "code",
   "execution_count": 2,
   "metadata": {
    "colab": {
     "base_uri": "https://localhost:8080/"
    },
    "executionInfo": {
     "elapsed": 3,
     "status": "ok",
     "timestamp": 1649508068370,
     "user": {
      "displayName": "Seungmin Ha",
      "userId": "04860775544158746732"
     },
     "user_tz": -540
    },
    "id": "MdantHK8EgII",
    "outputId": "f5e15481-20c9-4d12-cb32-8e646b8d431a"
   },
   "outputs": [
    {
     "name": "stdout",
     "output_type": "stream",
     "text": [
      "[1 2 3 4 5 6 7]\n",
      "(7,)\n",
      "7\n"
     ]
    }
   ],
   "source": [
    "# array 함수를 통한 벡터(1계 배열) 변수의 정의\n",
    "n1 = np.array([1, 2, 3, 4, 5, 6, 7])\n",
    "\n",
    "# 결과 확인\n",
    "print(n1)\n",
    "\n",
    "# 요소 수 확인\n",
    "print(n1.shape)\n",
    "\n",
    "# 또 다른 방법\n",
    "print(len(n1))"
   ]
  },
  {
   "cell_type": "code",
   "execution_count": 3,
   "metadata": {
    "colab": {
     "base_uri": "https://localhost:8080/"
    },
    "executionInfo": {
     "elapsed": 2,
     "status": "ok",
     "timestamp": 1649508109763,
     "user": {
      "displayName": "Seungmin Ha",
      "userId": "04860775544158746732"
     },
     "user_tz": -540
    },
    "id": "jVOAlp4qEgIJ",
    "outputId": "da043d45-9b47-4fe8-91f7-6d66c486b877"
   },
   "outputs": [
    {
     "name": "stdout",
     "output_type": "stream",
     "text": [
      "[[ 1  2  3]\n",
      " [ 4  5  6]\n",
      " [ 7  8  9]\n",
      " [10 11 12]]\n",
      "(4, 3)\n",
      "4\n"
     ]
    }
   ],
   "source": [
    "# array 함수를 통한 행렬(2계 배열) 변수의 정의\n",
    "n2 = np.array([\n",
    "    [1, 2, 3], \n",
    "    [4, 5, 6], \n",
    "    [7, 8, 9],\n",
    "    [10,11,12]\n",
    "])\n",
    "\n",
    "# 결과 확인\n",
    "print(n2)\n",
    "\n",
    "# 요소 수 확인\n",
    "print(n2.shape)\n",
    "\n",
    "# 또 다른 방법\n",
    "print(len(n2))"
   ]
  },
  {
   "cell_type": "markdown",
   "metadata": {
    "id": "5g065R_PEgIL"
   },
   "source": [
    "#### zeros 함수, ones 함수 등을 사용"
   ]
  },
  {
   "cell_type": "code",
   "execution_count": 4,
   "metadata": {
    "colab": {
     "base_uri": "https://localhost:8080/"
    },
    "executionInfo": {
     "elapsed": 277,
     "status": "ok",
     "timestamp": 1649508163335,
     "user": {
      "displayName": "Seungmin Ha",
      "userId": "04860775544158746732"
     },
     "user_tz": -540
    },
    "id": "L0mDzwgzEgIM",
    "outputId": "36d0be47-16cf-429c-f7ef-cf08db1cd7d2"
   },
   "outputs": [
    {
     "name": "stdout",
     "output_type": "stream",
     "text": [
      "[0. 0. 0. 0. 0.]\n",
      "(5,)\n"
     ]
    }
   ],
   "source": [
    "# zeros 함수로 모든 요소가 0인 벡터를 정의\n",
    "n3 = np.zeros(5)\n",
    "\n",
    "# 결과 확인\n",
    "print(n3)\n",
    "\n",
    "# 요소 수 확인\n",
    "print(n3.shape)"
   ]
  },
  {
   "cell_type": "code",
   "execution_count": 5,
   "metadata": {
    "colab": {
     "base_uri": "https://localhost:8080/"
    },
    "executionInfo": {
     "elapsed": 1,
     "status": "ok",
     "timestamp": 1649508184563,
     "user": {
      "displayName": "Seungmin Ha",
      "userId": "04860775544158746732"
     },
     "user_tz": -540
    },
    "id": "SNslYCarEgIN",
    "outputId": "9abe80ac-ca96-48b8-b87c-80665e6c897d"
   },
   "outputs": [
    {
     "name": "stdout",
     "output_type": "stream",
     "text": [
      "[[1. 1. 1.]\n",
      " [1. 1. 1.]]\n",
      "(2, 3)\n"
     ]
    }
   ],
   "source": [
    "# ones 함수로 모든 요소가 1인 행렬을 정의\n",
    "n4 = np.ones((2,3))\n",
    "\n",
    "# 결과 확인\n",
    "print(n4)\n",
    "\n",
    "# 요소 수 확인\n",
    "print(n4.shape)"
   ]
  },
  {
   "cell_type": "code",
   "execution_count": 6,
   "metadata": {
    "colab": {
     "base_uri": "https://localhost:8080/"
    },
    "executionInfo": {
     "elapsed": 2,
     "status": "ok",
     "timestamp": 1649508209981,
     "user": {
      "displayName": "Seungmin Ha",
      "userId": "04860775544158746732"
     },
     "user_tz": -540
    },
    "id": "E4K-e3i8EgIN",
    "outputId": "0ef2503e-8bff-4aec-d57f-65287c5b7cda"
   },
   "outputs": [
    {
     "name": "stdout",
     "output_type": "stream",
     "text": [
      "[[[ 0.35705 -1.04989 -0.58529  0.57153]\n",
      "  [ 1.0679  -0.5711   2.3792   0.38826]\n",
      "  [-0.8361   0.40919 -0.06052  0.09158]]\n",
      "\n",
      " [[ 1.56061  1.15909  0.09959 -0.14434]\n",
      "  [-0.34591 -0.47816 -0.68424  1.55573]\n",
      "  [ 0.76502  0.63429  1.31378 -1.44289]]]\n",
      "(2, 3, 4)\n"
     ]
    }
   ],
   "source": [
    "# 모든 요소가 정규 분포를 따르는 변수인 3계 행렬\n",
    "n5 = np.random.randn(2,3,4)\n",
    "\n",
    "# 결과 확인\n",
    "print(n5)\n",
    "\n",
    "# 요소 수 확인\n",
    "print(n5.shape)"
   ]
  },
  {
   "cell_type": "markdown",
   "metadata": {
    "id": "2nPMkLk4EgIN"
   },
   "source": [
    "#### 그래프 출력용 수치 배열 생성"
   ]
  },
  {
   "cell_type": "code",
   "execution_count": 7,
   "metadata": {
    "colab": {
     "base_uri": "https://localhost:8080/"
    },
    "executionInfo": {
     "elapsed": 2,
     "status": "ok",
     "timestamp": 1649508265222,
     "user": {
      "displayName": "Seungmin Ha",
      "userId": "04860775544158746732"
     },
     "user_tz": -540
    },
    "id": "znrBwEK3EgIO",
    "outputId": "e0798115-f0f5-4c06-fe2f-a4864e6a9d06"
   },
   "outputs": [
    {
     "name": "stdout",
     "output_type": "stream",
     "text": [
      "[-1.  -0.8 -0.6 -0.4 -0.2  0.   0.2  0.4  0.6  0.8  1. ]\n"
     ]
    }
   ],
   "source": [
    "# linspace 함수로 그래프 출력용 수치 배열을 계산\n",
    "\n",
    "# 등간격으로 점을 찍음\n",
    "# 점의 수가 세번째 인수\n",
    "n6 = np.linspace(-1, 1, 11)\n",
    "\n",
    "# 결과 확인\n",
    "print(n6)"
   ]
  },
  {
   "cell_type": "code",
   "execution_count": 8,
   "metadata": {
    "colab": {
     "base_uri": "https://localhost:8080/"
    },
    "executionInfo": {
     "elapsed": 2,
     "status": "ok",
     "timestamp": 1649508318054,
     "user": {
      "displayName": "Seungmin Ha",
      "userId": "04860775544158746732"
     },
     "user_tz": -540
    },
    "id": "w1VY-Hs1EgIO",
    "outputId": "9ccd6b94-0d14-4483-810b-15c2c3174f17"
   },
   "outputs": [
    {
     "name": "stdout",
     "output_type": "stream",
     "text": [
      "[-1.  -0.8 -0.6 -0.4 -0.2 -0.   0.2  0.4  0.6  0.8  1. ]\n"
     ]
    }
   ],
   "source": [
    "# arange 함수를 사용한 그래프 출력용 수치 배열을 계산\n",
    "\n",
    "# 등간격으로 점을 찍음\n",
    "# 간격의 크기 값이 세번째 인수\n",
    "# (두번째 인수는 max가 아니라 '미만'이라는 점에 주의)\n",
    "n7 = np.arange(-1, 1.2, 0.2)\n",
    "\n",
    "# 결과 확인\n",
    "print(n7)"
   ]
  },
  {
   "cell_type": "markdown",
   "metadata": {
    "id": "SWnpp5hvEgIP"
   },
   "source": [
    "### 조작"
   ]
  },
  {
   "cell_type": "markdown",
   "metadata": {
    "id": "6z1QNbEREgIP"
   },
   "source": [
    "#### 특정 행, 열의 추출"
   ]
  },
  {
   "cell_type": "code",
   "execution_count": null,
   "metadata": {
    "id": "b5HuJD8KEgIP"
   },
   "outputs": [],
   "source": [
    "# 원본 변수\n",
    "print(n2)\n",
    "\n",
    "# 모든 행의 0번째 열을 추출\n",
    "n8 = n2[:,0]\n",
    "print(n8)"
   ]
  },
  {
   "cell_type": "code",
   "execution_count": 9,
   "metadata": {
    "colab": {
     "base_uri": "https://localhost:8080/"
    },
    "executionInfo": {
     "elapsed": 3,
     "status": "ok",
     "timestamp": 1649508388075,
     "user": {
      "displayName": "Seungmin Ha",
      "userId": "04860775544158746732"
     },
     "user_tz": -540
    },
    "id": "9oLq7IFyEgIQ",
    "outputId": "29ae2e33-ccd2-402a-dd46-4993657ceca8"
   },
   "outputs": [
    {
     "name": "stdout",
     "output_type": "stream",
     "text": [
      "[[ 4  5  6]\n",
      " [10 11 12]]\n"
     ]
    }
   ],
   "source": [
    "# 첫번째 행과 세번째 행을 추출\n",
    "# True / False 요소의 배열을 지정\n",
    "n2_index = np.array([False, True, False, True])\n",
    "n9 = n2[n2_index]\n",
    "print(n9)"
   ]
  },
  {
   "cell_type": "markdown",
   "metadata": {
    "id": "j1nUl3iVEgIQ"
   },
   "source": [
    "#### reshape 함수"
   ]
  },
  {
   "cell_type": "code",
   "execution_count": 10,
   "metadata": {
    "colab": {
     "base_uri": "https://localhost:8080/"
    },
    "executionInfo": {
     "elapsed": 2,
     "status": "ok",
     "timestamp": 1649508429033,
     "user": {
      "displayName": "Seungmin Ha",
      "userId": "04860775544158746732"
     },
     "user_tz": -540
    },
    "id": "7njwM8n7EgIQ",
    "outputId": "114edaf9-79e4-4282-a73b-a249110556b0"
   },
   "outputs": [
    {
     "name": "stdout",
     "output_type": "stream",
     "text": [
      "[ 0  1  2  3  4  5  6  7  8  9 10 11 12 13 14 15 16 17 18 19 20 21 22 23]\n"
     ]
    }
   ],
   "source": [
    "# 초기 변수 1계 배열\n",
    "n10 = np.array(range(24))\n",
    "\n",
    "# 결과 확인\n",
    "print(n10)"
   ]
  },
  {
   "cell_type": "code",
   "execution_count": 11,
   "metadata": {
    "colab": {
     "base_uri": "https://localhost:8080/"
    },
    "executionInfo": {
     "elapsed": 2,
     "status": "ok",
     "timestamp": 1649508442330,
     "user": {
      "displayName": "Seungmin Ha",
      "userId": "04860775544158746732"
     },
     "user_tz": -540
    },
    "id": "9fXWDyy7EgIQ",
    "outputId": "a0193c0f-87e1-40b1-f128-589ae0dde672"
   },
   "outputs": [
    {
     "name": "stdout",
     "output_type": "stream",
     "text": [
      "[[ 0  1  2  3  4  5  6  7]\n",
      " [ 8  9 10 11 12 13 14 15]\n",
      " [16 17 18 19 20 21 22 23]]\n"
     ]
    }
   ],
   "source": [
    "# 3x8의 2차원 배열로 변형\n",
    "n11 = n10.reshape(3,8)\n",
    "\n",
    "# 결과 확인\n",
    "print(n11)"
   ]
  },
  {
   "cell_type": "code",
   "execution_count": 12,
   "metadata": {
    "colab": {
     "base_uri": "https://localhost:8080/"
    },
    "executionInfo": {
     "elapsed": 2,
     "status": "ok",
     "timestamp": 1649508455173,
     "user": {
      "displayName": "Seungmin Ha",
      "userId": "04860775544158746732"
     },
     "user_tz": -540
    },
    "id": "-FibSl5vEgIQ",
    "outputId": "e45aa196-dd69-460e-8542-d908d4be4f49"
   },
   "outputs": [
    {
     "name": "stdout",
     "output_type": "stream",
     "text": [
      "(2, 3, 4)\n"
     ]
    }
   ],
   "source": [
    "# -1을 지정, 자동 계산\n",
    "n12 = n10.reshape(2, -1, 4)\n",
    "\n",
    "# 결과 확인\n",
    "print(n12.shape)"
   ]
  },
  {
   "cell_type": "code",
   "execution_count": 13,
   "metadata": {
    "colab": {
     "base_uri": "https://localhost:8080/"
    },
    "executionInfo": {
     "elapsed": 3,
     "status": "ok",
     "timestamp": 1649508491737,
     "user": {
      "displayName": "Seungmin Ha",
      "userId": "04860775544158746732"
     },
     "user_tz": -540
    },
    "id": "-XBMkTvcEgIR",
    "outputId": "6c33bbaf-9cea-465c-eb1e-2d538ea8733a"
   },
   "outputs": [
    {
     "name": "stdout",
     "output_type": "stream",
     "text": [
      "(24,)\n",
      "(1, 24)\n"
     ]
    }
   ],
   "source": [
    "# 벡터를 1행 N열의 행렬로 변형\n",
    "\n",
    "# 원본 변수(1계 배열)\n",
    "print(n10.shape)\n",
    "\n",
    "# 변형\n",
    "n13 = n10.reshape(1, -1)\n",
    "\n",
    "# 결과 확인\n",
    "print(n13.shape)"
   ]
  },
  {
   "cell_type": "markdown",
   "metadata": {
    "id": "WFvqwzWTEgIR"
   },
   "source": [
    "#### 축 교체하기"
   ]
  },
  {
   "cell_type": "code",
   "execution_count": 14,
   "metadata": {
    "colab": {
     "base_uri": "https://localhost:8080/"
    },
    "executionInfo": {
     "elapsed": 209,
     "status": "ok",
     "timestamp": 1649508510036,
     "user": {
      "displayName": "Seungmin Ha",
      "userId": "04860775544158746732"
     },
     "user_tz": -540
    },
    "id": "AxyR700LEgIR",
    "outputId": "102d908b-5c37-492e-8f8c-38cccdd95f8d"
   },
   "outputs": [
    {
     "name": "stdout",
     "output_type": "stream",
     "text": [
      "[[ 1  2  3]\n",
      " [ 4  5  6]\n",
      " [ 7  8  9]\n",
      " [10 11 12]]\n",
      "[[ 1  4  7 10]\n",
      " [ 2  5  8 11]\n",
      " [ 3  6  9 12]]\n"
     ]
    }
   ],
   "source": [
    "# 전치 행렬\n",
    "print(n2)\n",
    "\n",
    "n14 = n2.T\n",
    "print(n14)"
   ]
  },
  {
   "cell_type": "code",
   "execution_count": 15,
   "metadata": {
    "colab": {
     "base_uri": "https://localhost:8080/"
    },
    "executionInfo": {
     "elapsed": 2,
     "status": "ok",
     "timestamp": 1649508540142,
     "user": {
      "displayName": "Seungmin Ha",
      "userId": "04860775544158746732"
     },
     "user_tz": -540
    },
    "id": "BzGVkgQmEgIR",
    "outputId": "d0873789-154a-46fd-8931-5e5ee9701125"
   },
   "outputs": [
    {
     "name": "stdout",
     "output_type": "stream",
     "text": [
      "(2, 3, 4)\n",
      "[[[ 0  1  2  3]\n",
      "  [ 4  5  6  7]\n",
      "  [ 8  9 10 11]]\n",
      "\n",
      " [[12 13 14 15]\n",
      "  [16 17 18 19]\n",
      "  [20 21 22 23]]]\n",
      "(3, 4, 2)\n",
      "[[[ 0 12]\n",
      "  [ 1 13]\n",
      "  [ 2 14]\n",
      "  [ 3 15]]\n",
      "\n",
      " [[ 4 16]\n",
      "  [ 5 17]\n",
      "  [ 6 18]\n",
      "  [ 7 19]]\n",
      "\n",
      " [[ 8 20]\n",
      "  [ 9 21]\n",
      "  [10 22]\n",
      "  [11 23]]]\n"
     ]
    }
   ],
   "source": [
    "# 축의 순서를 교체\n",
    "\n",
    "# 원본 변수\n",
    "print(n12.shape)\n",
    "print(n12)\n",
    "\n",
    "# 축을 (1, 2, 0) 순서로 교체\n",
    "n15 = np.transpose(n12, (1, 2, 0))\n",
    "\n",
    "# 결과 확인\n",
    "print(n15.shape)\n",
    "print(n15)"
   ]
  },
  {
   "cell_type": "markdown",
   "metadata": {
    "id": "5HAvPD2NEgIR"
   },
   "source": [
    "#### 행렬 연결하기"
   ]
  },
  {
   "cell_type": "code",
   "execution_count": 16,
   "metadata": {
    "colab": {
     "base_uri": "https://localhost:8080/"
    },
    "executionInfo": {
     "elapsed": 5,
     "status": "ok",
     "timestamp": 1649508964093,
     "user": {
      "displayName": "Seungmin Ha",
      "userId": "04860775544158746732"
     },
     "user_tz": -540
    },
    "id": "pAP98ljYEgIS",
    "outputId": "6251316c-adda-4077-cf3d-e74d478578ee"
   },
   "outputs": [
    {
     "name": "stdout",
     "output_type": "stream",
     "text": [
      "[[1 2 3]\n",
      " [4 5 6]]\n",
      "[[ 7  8  9]\n",
      " [10 11 12]]\n",
      "[14 15 16]\n",
      "[17 18]\n"
     ]
    }
   ],
   "source": [
    "# 변수로 사용할 배열\n",
    "\n",
    "# 2행 3열의 행렬\n",
    "n16 = np.array(range(1,7)).reshape(2,3)\n",
    "n17 = np.array(range(7,13)).reshape(2,3)\n",
    "\n",
    "# 3요소 벡터\n",
    "n18 = np.array(range(14,17))\n",
    "\n",
    "# 2요소 벡터\n",
    "n19 = np.array(range(17,19))\n",
    "\n",
    "print(n16)\n",
    "print(n17)\n",
    "print(n18)\n",
    "print(n19)"
   ]
  },
  {
   "cell_type": "code",
   "execution_count": 17,
   "metadata": {
    "colab": {
     "base_uri": "https://localhost:8080/"
    },
    "executionInfo": {
     "elapsed": 1,
     "status": "ok",
     "timestamp": 1649508984110,
     "user": {
      "displayName": "Seungmin Ha",
      "userId": "04860775544158746732"
     },
     "user_tz": -540
    },
    "id": "oqFwewSEEgIS",
    "outputId": "c125bb00-73ff-4402-eab9-181a450d8582"
   },
   "outputs": [
    {
     "name": "stdout",
     "output_type": "stream",
     "text": [
      "[[ 1  2  3]\n",
      " [ 4  5  6]\n",
      " [ 7  8  9]\n",
      " [10 11 12]]\n",
      "[[ 1  2  3]\n",
      " [ 4  5  6]\n",
      " [14 15 16]]\n"
     ]
    }
   ],
   "source": [
    "# 행렬과 행렬의 세로 연결\n",
    "n20 = np.vstack([n16, n17])\n",
    "print(n20)\n",
    "\n",
    "# 행렬과 벡터의 세로 연결\n",
    "n21 = np.vstack([n16, n18])\n",
    "print(n21)"
   ]
  },
  {
   "cell_type": "code",
   "execution_count": 18,
   "metadata": {
    "colab": {
     "base_uri": "https://localhost:8080/"
    },
    "executionInfo": {
     "elapsed": 1,
     "status": "ok",
     "timestamp": 1649509025520,
     "user": {
      "displayName": "Seungmin Ha",
      "userId": "04860775544158746732"
     },
     "user_tz": -540
    },
    "id": "LhU2DzWWEgIS",
    "outputId": "f96c7db8-21ef-4faf-f841-8ee3a93e0613"
   },
   "outputs": [
    {
     "name": "stdout",
     "output_type": "stream",
     "text": [
      "[[ 1  2  3  7  8  9]\n",
      " [ 4  5  6 10 11 12]]\n",
      "[[ 1  2  3 17]\n",
      " [ 4  5  6 18]]\n"
     ]
    }
   ],
   "source": [
    "# 행렬과 행렬의 가로 연결\n",
    "n22 = np.hstack([n16, n17])\n",
    "print(n22)\n",
    "\n",
    "# 행렬과 벡터의 가로 연결\n",
    "# 벡터의 shape를 (N, 1) 형태로 변형\n",
    "n23 = n19.reshape(-1, 1)\n",
    "n24 = np.hstack([n16, n23])\n",
    "print(n24)"
   ]
  },
  {
   "cell_type": "markdown",
   "metadata": {
    "id": "eTxFh2vPEgIS"
   },
   "source": [
    "### 연산"
   ]
  },
  {
   "cell_type": "markdown",
   "metadata": {
    "id": "pt9dfXlzEgIS"
   },
   "source": [
    "#### 넘파이 변수끼리의 연산"
   ]
  },
  {
   "cell_type": "code",
   "execution_count": 19,
   "metadata": {
    "colab": {
     "base_uri": "https://localhost:8080/"
    },
    "executionInfo": {
     "elapsed": 2,
     "status": "ok",
     "timestamp": 1649509059843,
     "user": {
      "displayName": "Seungmin Ha",
      "userId": "04860775544158746732"
     },
     "user_tz": -540
    },
    "id": "2S7zS5YJEgIS",
    "outputId": "f40e1293-3838-4a7a-fad4-9e4ca4f3a87b"
   },
   "outputs": [
    {
     "name": "stdout",
     "output_type": "stream",
     "text": [
      "[[1 2 3]\n",
      " [4 5 6]]\n",
      "[[ 7  8  9]\n",
      " [10 11 12]]\n",
      "[[ 8 10 12]\n",
      " [14 16 18]]\n"
     ]
    }
   ],
   "source": [
    "# 원본 변수\n",
    "print(n16)\n",
    "print(n17)\n",
    "\n",
    "# 행렬간 연산\n",
    "n25 = n16 + n17\n",
    "\n",
    "# 결과 확인\n",
    "print(n25)"
   ]
  },
  {
   "cell_type": "markdown",
   "metadata": {
    "id": "Bf0mUbMaEgIT"
   },
   "source": [
    "#### 브로드캐스트 기능"
   ]
  },
  {
   "cell_type": "code",
   "execution_count": 20,
   "metadata": {
    "colab": {
     "base_uri": "https://localhost:8080/"
    },
    "executionInfo": {
     "elapsed": 2,
     "status": "ok",
     "timestamp": 1649509093720,
     "user": {
      "displayName": "Seungmin Ha",
      "userId": "04860775544158746732"
     },
     "user_tz": -540
    },
    "id": "nHBLMIykEgIT",
    "outputId": "318595ab-07fb-447e-c501-84db12684e27"
   },
   "outputs": [
    {
     "name": "stdout",
     "output_type": "stream",
     "text": [
      "[1 2 3 4 5 6 7]\n",
      "[-3 -2 -1  0  1  2  3]\n"
     ]
    }
   ],
   "source": [
    "# 브로드캐스트 기능\n",
    "\n",
    "# 원본 변수\n",
    "print(n1)\n",
    "\n",
    "# 모든 요소에서 같은 값을 뺌\n",
    "n22 = n1 - 4\n",
    "\n",
    "# 결과 확인\n",
    "print(n22)"
   ]
  },
  {
   "cell_type": "markdown",
   "metadata": {
    "id": "e7vqyZiNEgIT"
   },
   "source": [
    "#### 유니버설 함수"
   ]
  },
  {
   "cell_type": "code",
   "execution_count": 21,
   "metadata": {
    "colab": {
     "base_uri": "https://localhost:8080/"
    },
    "executionInfo": {
     "elapsed": 3,
     "status": "ok",
     "timestamp": 1649509110597,
     "user": {
      "displayName": "Seungmin Ha",
      "userId": "04860775544158746732"
     },
     "user_tz": -540
    },
    "id": "2s4e4assEgIT",
    "outputId": "d1a968c4-f8f0-482a-ace5-1f0679cf5301"
   },
   "outputs": [
    {
     "name": "stdout",
     "output_type": "stream",
     "text": [
      "[0.      0.2618  0.5236  0.7854  1.0472  1.309   1.5708  1.8326  2.0944\n",
      " 2.35619 2.61799 2.87979 3.14159 3.40339 3.66519 3.92699 4.18879 4.45059\n",
      " 4.71239 4.97419 5.23599 5.49779 5.75959 6.02139 6.28319]\n",
      "[ 0.       0.25882  0.5      0.70711  0.86603  0.96593  1.       0.96593\n",
      "  0.86603  0.70711  0.5      0.25882  0.      -0.25882 -0.5     -0.70711\n",
      " -0.86603 -0.96593 -1.      -0.96593 -0.86603 -0.70711 -0.5     -0.25882\n",
      " -0.     ]\n"
     ]
    }
   ],
   "source": [
    "# x 배열 준비\n",
    "x = np.linspace(0, 2*np.pi, 25)\n",
    "print(x)\n",
    "\n",
    "# y=sin(x) 계산\n",
    "y = np.sin(x)\n",
    "print(y)"
   ]
  },
  {
   "cell_type": "markdown",
   "metadata": {
    "id": "M8iH6R6AEgIT"
   },
   "source": [
    "#### 집계 함수"
   ]
  },
  {
   "cell_type": "code",
   "execution_count": 22,
   "metadata": {
    "colab": {
     "base_uri": "https://localhost:8080/"
    },
    "executionInfo": {
     "elapsed": 360,
     "status": "ok",
     "timestamp": 1649509214485,
     "user": {
      "displayName": "Seungmin Ha",
      "userId": "04860775544158746732"
     },
     "user_tz": -540
    },
    "id": "4WWIJVodEgIT",
    "outputId": "0acb7ebc-f3b7-4f03-8eaf-cd9fb5394059"
   },
   "outputs": [
    {
     "name": "stdout",
     "output_type": "stream",
     "text": [
      "원본 변수 : [1 2 3 4 5 6 7]\n",
      "합 : 28\n",
      "평균 : 4.0\n",
      "최댓값 : 7\n",
      "최솟값 : 1\n"
     ]
    }
   ],
   "source": [
    "# 집계 함수\n",
    "\n",
    "print(f'원본 변수 : {n1}')\n",
    "\n",
    "# 합 계산, sum 함수\n",
    "n23 = np.sum(n1)\n",
    "print(f'합 : {n23}')\n",
    "\n",
    "# 평균 계산, mean 함수\n",
    "n24 = np.mean(n1)\n",
    "print(f'평균 : {n24}')\n",
    "\n",
    "# 최댓값 계산, max 함수\n",
    "n25 = np.max(n1)\n",
    "print(f'최댓값 : {n25}')\n",
    "\n",
    "# 최솟값 계산, min 함수\n",
    "# 이런 방식도 가능\n",
    "n26 = n1.min()\n",
    "print(f'최솟값 : {n26}')"
   ]
  },
  {
   "cell_type": "markdown",
   "metadata": {
    "id": "Lxc0MxN2EgIT"
   },
   "source": [
    "### 응용 예시"
   ]
  },
  {
   "cell_type": "markdown",
   "metadata": {
    "id": "oWac4vXAEgIT"
   },
   "source": [
    "#### 두 변수를 비교해서 일치하는 개수로 정확도를 계산"
   ]
  },
  {
   "cell_type": "code",
   "execution_count": 23,
   "metadata": {
    "colab": {
     "base_uri": "https://localhost:8080/"
    },
    "executionInfo": {
     "elapsed": 4,
     "status": "ok",
     "timestamp": 1649509256877,
     "user": {
      "displayName": "Seungmin Ha",
      "userId": "04860775544158746732"
     },
     "user_tz": -540
    },
    "id": "YAdcaFTuEgIU",
    "outputId": "70852b45-b245-4ae9-d78d-689e247756c2"
   },
   "outputs": [
    {
     "name": "stdout",
     "output_type": "stream",
     "text": [
      "[1 1 0 1 0 1 1 0 1 1]\n",
      "[1 1 0 1 0 1 1 1 1 1]\n"
     ]
    }
   ],
   "source": [
    "# 2개의 넘파이 배열 준비\n",
    "# 정답\n",
    "yt = np.array([1, 1, 0, 1, 0, 1, 1, 0, 1, 1])\n",
    "# 예측 값\n",
    "yp = np.array([1, 1, 0, 1, 0, 1, 1, 1, 1, 1])\n",
    "\n",
    "# 내용 출력\n",
    "print(yt)\n",
    "print(yp)"
   ]
  },
  {
   "cell_type": "code",
   "execution_count": 24,
   "metadata": {
    "colab": {
     "base_uri": "https://localhost:8080/"
    },
    "executionInfo": {
     "elapsed": 4,
     "status": "ok",
     "timestamp": 1649509268459,
     "user": {
      "displayName": "Seungmin Ha",
      "userId": "04860775544158746732"
     },
     "user_tz": -540
    },
    "id": "YPZpBgd5EgIU",
    "outputId": "e8e8ee6f-35d0-4ed9-cf62-2a80e1bd37fa"
   },
   "outputs": [
    {
     "name": "stdout",
     "output_type": "stream",
     "text": [
      "[ True  True  True  True  True  True  True False  True  True]\n"
     ]
    }
   ],
   "source": [
    "# 배열의 각 요소를 동시에 비교함\n",
    "matched = (yt == yp)\n",
    "print(matched)"
   ]
  },
  {
   "cell_type": "code",
   "execution_count": null,
   "metadata": {
    "id": "eo1d5pyTEgIU"
   },
   "outputs": [],
   "source": [
    "# 이 결과에 sum 함수를 적용함\n",
    "# 대상 변수가 논리형인 경우, True→1, False→0 으로 변환됨\n",
    "# 정답 수를 세는 방법\n",
    "correct = matched.sum()\n",
    "\n",
    "# 전체 수는 len(matched)로 계산\n",
    "total = len(matched)\n",
    "\n",
    "# 정확도 계산\n",
    "accuracy = correct/total\n",
    "\n",
    "print(f'정답수 :{correct} 전체수 :{total} 정확도 :{accuracy:.3f}')"
   ]
  },
  {
   "cell_type": "markdown",
   "metadata": {
    "id": "oOcK6XiPEgIU"
   },
   "source": [
    "#### 벡터 값을 1차 함수로 변환해서 [0, 1] 범위로 제한"
   ]
  },
  {
   "cell_type": "code",
   "execution_count": 25,
   "metadata": {
    "colab": {
     "base_uri": "https://localhost:8080/"
    },
    "executionInfo": {
     "elapsed": 313,
     "status": "ok",
     "timestamp": 1649509410573,
     "user": {
      "displayName": "Seungmin Ha",
      "userId": "04860775544158746732"
     },
     "user_tz": -540
    },
    "id": "G-fodn3XEgIU",
    "outputId": "e5d0e02f-d5e5-41c5-fa1b-8401656bdc21"
   },
   "outputs": [
    {
     "name": "stdout",
     "output_type": "stream",
     "text": [
      "[1 2 3 4 5 6 7]\n",
      "7 1\n"
     ]
    }
   ],
   "source": [
    "# 모든 값을 [0, 1] 범위에 포함하도록 변환\n",
    "\n",
    "# 원본 변수\n",
    "print(n1)\n",
    "\n",
    "# 최댓값과 최솟값을 집계 함수로 얻음\n",
    "n1_max = n1.max()\n",
    "n1_min = n1.min()\n",
    "print(n1_max, n1_min)"
   ]
  },
  {
   "cell_type": "code",
   "execution_count": 26,
   "metadata": {
    "colab": {
     "base_uri": "https://localhost:8080/"
    },
    "executionInfo": {
     "elapsed": 2,
     "status": "ok",
     "timestamp": 1649509419923,
     "user": {
      "displayName": "Seungmin Ha",
      "userId": "04860775544158746732"
     },
     "user_tz": -540
    },
    "id": "8v1-Y2huEgIU",
    "outputId": "6f919dc2-28b0-469f-a826-74c5af0a93fa"
   },
   "outputs": [
    {
     "name": "stdout",
     "output_type": "stream",
     "text": [
      "[0.      0.16667 0.33333 0.5     0.66667 0.83333 1.     ]\n"
     ]
    }
   ],
   "source": [
    "# 변환(브로드캐스트 기능 사용)\n",
    "n27 = (n1 - n1_min) / (n1_max - n1_min)\n",
    "print(n27)"
   ]
  },
  {
   "cell_type": "markdown",
   "metadata": {
    "id": "BKhWnu_eEgIU"
   },
   "source": [
    "#### 특정 조건을 만족하는 행을 추출"
   ]
  },
  {
   "cell_type": "code",
   "execution_count": 27,
   "metadata": {
    "colab": {
     "base_uri": "https://localhost:8080/"
    },
    "executionInfo": {
     "elapsed": 3,
     "status": "ok",
     "timestamp": 1649509464944,
     "user": {
      "displayName": "Seungmin Ha",
      "userId": "04860775544158746732"
     },
     "user_tz": -540
    },
    "id": "ecZRkOlMEgIU",
    "outputId": "be8b9f2d-7e6b-496c-fb30-582cf5a9024c"
   },
   "outputs": [
    {
     "name": "stdout",
     "output_type": "stream",
     "text": [
      "[[ 1  2  3]\n",
      " [ 4  5  6]\n",
      " [ 7  8  9]\n",
      " [10 11 12]]\n",
      "[False  True False  True]\n"
     ]
    }
   ],
   "source": [
    "# n2의 0번째 열이 짝수임을 판단\n",
    "\n",
    "# 원본 변수\n",
    "print(n2)\n",
    "\n",
    "n28 = n2[:,0] % 2 == 0\n",
    "\n",
    "# 결과 확인\n",
    "print(n28)"
   ]
  },
  {
   "cell_type": "code",
   "execution_count": 28,
   "metadata": {
    "colab": {
     "base_uri": "https://localhost:8080/"
    },
    "executionInfo": {
     "elapsed": 1,
     "status": "ok",
     "timestamp": 1649509477801,
     "user": {
      "displayName": "Seungmin Ha",
      "userId": "04860775544158746732"
     },
     "user_tz": -540
    },
    "id": "FOPZEmFxEgIU",
    "outputId": "d691e0fa-b0e2-4639-c877-9df07d31f292"
   },
   "outputs": [
    {
     "name": "stdout",
     "output_type": "stream",
     "text": [
      "[[ 4  5  6]\n",
      " [10 11 12]]\n"
     ]
    }
   ],
   "source": [
    "# n28이 True인 행을 추출\n",
    "\n",
    "n29 = n2[n28]\n",
    "\n",
    "# 결과 확인\n",
    "print(n29)"
   ]
  }
 ],
 "metadata": {
  "colab": {
   "collapsed_sections": [],
   "name": "l02_numpy.ipynb",
   "provenance": [],
   "toc_visible": true
  },
  "kernelspec": {
   "display_name": "Python 3",
   "language": "python",
   "name": "python3"
  },
  "language_info": {
   "codemirror_mode": {
    "name": "ipython",
    "version": 3
   },
   "file_extension": ".py",
   "mimetype": "text/x-python",
   "name": "python",
   "nbconvert_exporter": "python",
   "pygments_lexer": "ipython3",
   "version": "3.8.8"
  }
 },
 "nbformat": 4,
 "nbformat_minor": 1
}
